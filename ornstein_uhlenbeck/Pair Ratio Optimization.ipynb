{
 "cells": [
  {
   "cell_type": "markdown",
   "id": "40e34851",
   "metadata": {},
   "source": [
    "Optimal Mean Reversion Trading: Mathematical Analysis And Practical Applications by Tim Siu-tang Leung, Xin Li\n",
    "\n",
    "Video:  <a href = \"https://youtu.be/vHzlZECzyPE\">What is a pairs trade</A><br>\n",
    "Video:  <a href=\"https://youtu.be/GdqVY1kZ4XI\">Maximum Likelihood Estimation with Ornstein-Uhlenbeck (part 1)</A><br>\n",
    "Video:  <a href=\"https://youtu.be/3906CWKhLqQ\">Maximum Likelihood Estimation with Ornstein-Uhlenbeck (part 2)</A><br>"
   ]
  },
  {
   "cell_type": "code",
   "execution_count": 1,
   "id": "0c9fcfb2",
   "metadata": {},
   "outputs": [],
   "source": [
    "import numpy as np\n",
    "import pandas as pd\n",
    "import matplotlib.pyplot as plt\n",
    "from matplotlib.widgets import MultiCursor,Button\n",
    "%matplotlib inline"
   ]
  },
  {
   "cell_type": "markdown",
   "id": "25caa262",
   "metadata": {},
   "source": [
    "## Ornstein-Uhlenbeck Process and Parameter Determination\n",
    "\n",
    "$$ dX_t = \\mu(\\theta - X_t) dt + \\sigma dW_t$$\n",
    "\n",
    "\n",
    "When we wish to simulate this process, we use a differencing formula:\n",
    "$$X_i - x_{i-1} = \\mu(\\theta - X_i) (t_i - t_{i-1}) + \\sigma\\sqrt{t_i - t_{i-1}}W_t$$"
   ]
  },
  {
   "cell_type": "markdown",
   "id": "40949f30",
   "metadata": {},
   "source": [
    "The optimal parameters can be calculated analytically.\n",
    "\n",
    "First define\n",
    "\n",
    "$$\n",
    "X_x = \\sum_{i=1}^N x_{i-1}\n",
    "$$\n",
    "\n",
    "$$\n",
    "X_y = \\sum_{i=1}^N x_i\n",
    "$$\n",
    "\n",
    "$$\n",
    "X_{xx} = \\sum_{i=1}^N (x_{i-1})^2\n",
    "$$\n",
    "\n",
    "$$\n",
    "X_{xy} = \\sum_{i=1}^N x_{i-1} x_i\n",
    "$$\n",
    "\n",
    "$$\n",
    "X_{yy} = \\sum_{i=1}^N (x_i)^2\n",
    "$$"
   ]
  },
  {
   "cell_type": "markdown",
   "id": "5861156e",
   "metadata": {},
   "source": [
    "The optimal parameters are given by,\n",
    "\n",
    "\n",
    "$$\n",
    "\\theta^* = \\frac{X_y X_{xx} - X_x X_{xy}}\n",
    "{N(X_{xx} - X_{xy}) - (X_x^2 - X_xX_y)}\n",
    "$$\n",
    "\n",
    "$$\n",
    "\\mu^* = -\\frac{1}{\\Delta t} \\ln\\left(\n",
    "\\frac{X_{xy} - \\theta^*X_x - \\theta^*X_y + N(\\theta^*)^2}\n",
    "{X_{xx} - 2\\theta^*X_x + N(\\theta^*)^2}\\right)\n",
    "$$\n",
    "\n",
    "\n",
    "\\begin{multline}\n",
    "(\\sigma^*)^2 = \\frac{2\\mu^*}{N(1-e^{-2\\mu^*\\Delta t})} (X_{yy} - 2e^{-\\mu^*\\Delta t} X_{xy} + e^{-2\\mu^*\\Delta t}X_{xx} \\\\\n",
    "- 2\\theta^* (1-e^{-\\mu^*\\Delta t})(X_y - e^{-\\mu^*\\Delta t})X_x + N(\\theta^*)^2(1-e^{-\\mu^*\\Delta t})^2)\n",
    "\\end{multline}"
   ]
  },
  {
   "cell_type": "code",
   "execution_count": 2,
   "id": "d73002b8",
   "metadata": {},
   "outputs": [],
   "source": [
    "def log_likelihood( parameters, S, dt ):\n",
    "    theta = parameters[0]\n",
    "    mu = parameters[1]\n",
    "    sigma = parameters[2]\n",
    "    \n",
    "    sigma0 = sigma**2 * (1 - np.exp(-2*mu*dt)) / (2 * mu)\n",
    "    sigma0 = np.sqrt( sigma0 )\n",
    "        \n",
    "    N = S.size\n",
    "    \n",
    "    term1 = -0.5 * np.log(2 * np.pi)\n",
    "    term2 = -np.log(sigma0)\n",
    "    \n",
    "    prefactor = -1 / (2 * N * sigma0**2)\n",
    "    sum_term = 0\n",
    "    for i in range( 1, N ):\n",
    "        x2 = S[i]\n",
    "        x1 = S[i-1]\n",
    "        \n",
    "        sum_term = sum_term + (x2 - x1 * np.exp(-mu*dt) - \\\n",
    "                   theta * (1-np.exp(-mu*dt)))**2\n",
    "    \n",
    "    f = (term1 + term2 + prefactor * sum_term)\n",
    "\n",
    "    return f\n",
    "\n",
    "def calculate_parameters(x, dt):\n",
    "    \n",
    "    N =x.size\n",
    "    \n",
    "    Xx  = np.sum(x[0:-1])\n",
    "    Xy  = np.sum(x[1:])\n",
    "    Xxx = np.sum(x[0:-1]**2)\n",
    "    Xxy = np.sum(x[0:-1] * x[1:])\n",
    "    Xyy = np.sum(x[1:]**2)\n",
    "\n",
    "    theta0 = (Xy * Xxx - Xx * Xxy) / (N * (Xxx - Xxy) - (Xx**2 - Xx * Xy) )\n",
    "\n",
    "    mu0 = (Xxy - theta0 * Xx - theta0 * Xy + N * theta0**2) / \\\n",
    "        (Xxx - 2 * theta0 * Xx + N * theta0**2)\n",
    "    mu0 = -1 / dt * np.log(mu0)\n",
    "\n",
    "    prefactor = 2 * mu0 / (N*(1-np.exp(-2*mu0*dt)))\n",
    "    term = Xyy - 2*np.exp(-mu0*dt) * Xxy + np.exp(-2*mu0*dt) * Xxx - 2*theta0*(1-np.exp(-mu0*dt)) * (Xy - Xx * np.exp(-mu0*dt)) + N * theta0**2 * ( 1-np.exp(-mu0 * dt))**2\n",
    "\n",
    "    sigma02 = prefactor * term\n",
    "    sigma0 = np.sqrt(sigma02)\n",
    "    \n",
    "    return theta0, mu0, sigma0"
   ]
  },
  {
   "cell_type": "markdown",
   "id": "d45abc37",
   "metadata": {},
   "source": [
    "##  Pairs Price\n",
    "\n",
    "Our $X$ values will be the price of the pair over some range of time.\n",
    "\n",
    "$$\n",
    "X^{\\alpha, \\beta}_t = \\alpha S_t^{(1)} - \\beta S_t^{(2)}\n",
    "$$\n",
    "\n",
    "where $S_t^{(1)}$ and $S_t^{(2)}$ are the prices of stock one and two, respectively.  Likewise, $\\alpha$ and $\\beta$ are the numbers of shares of $S^{(1)}$ and $S^{(2)}$ owned."
   ]
  },
  {
   "cell_type": "markdown",
   "id": "1ba4b04d",
   "metadata": {},
   "source": [
    "For each potential pair, in other words for different values of $\\alpha$ and $\\beta$, we will use historical data to generate the OU parameters.\n",
    "\n",
    "We will then sweep the values for $\\alpha$ and $\\beta$ (actually the ratio) and find the values that maximize the log likelihood.  We fix $\\alpha$ and sweep $\\beta$.\n",
    "\n",
    "If we put $A$ dollars in $S^{(1)}$ we have\n",
    "$$\n",
    "\\alpha = \\frac{A}{S_0^{(1)}}.\n",
    "$$\n",
    "\n",
    "$$\n",
    "\\beta = \\frac{B}{S_0^{(2)}}.\n",
    "$$\n",
    "\n",
    "The authors do the calculation in dollar amounts.  Since we only care about a ratio, we can set $A=1$.  When w do the calculation, we can sweep the parameters by taking a range of the ratio $B/A$.  We will take $B/A = 0.001 \\ldots 1$.\n",
    "\n",
    "##  Example\n",
    "\n",
    "Our pairs will be GLD-GDX, and GLD-SLV.\n",
    "\n",
    "Let's load in the GLD, GDX, and SLV data.\n",
    "\n",
    "Data fro Aug 2011 to May 2012\n",
    "\n",
    "$N = 200$, and $\\Delta t = 1 / 252$.\n"
   ]
  },
  {
   "cell_type": "code",
   "execution_count": 23,
   "id": "4ba4fdea",
   "metadata": {},
   "outputs": [
    {
     "name": "stdout",
     "output_type": "stream",
     "text": [
      "Numbner of data points in file =  210\n"
     ]
    }
   ],
   "source": [
    "GDX = pd.read_csv('GDX_historical.csv')\n",
    "GLD = pd.read_csv('GLD_historical.csv')\n",
    "SLV = pd.read_csv('SLV_historical.csv')\n",
    "\n",
    "gld = np.log(GLD['Adj Close'].to_numpy())\n",
    "gdx = np.log(GDX['Close'].to_numpy())\n",
    "slv = np.log(SLV['Close'].to_numpy())\n",
    "\n",
    "print('Numbner of data points in file = ', gld.size)\n",
    "\n",
    "#  The book uses only 200 points, so we'll trim our data down.\n",
    "#  I wrote this so you can easily adjust which 200 points are used.\n",
    "#  Obviously, don't go beound the length of the raw data.\n",
    "\n",
    "M = 3\n",
    "gld = gld[M:M + 200]\n",
    "gdx = gdx[M:M + 200]\n",
    "slv = slv[M:M + 200]\n",
    "\n",
    "N = gld.size\n",
    "dt = 1/252\n",
    "dt = 1/200"
   ]
  },
  {
   "cell_type": "code",
   "execution_count": 24,
   "id": "54dfeeac",
   "metadata": {},
   "outputs": [],
   "source": [
    "B_over_A = np.linspace(0.001, 1, 1000)\n",
    "likelihood_gld_gdx = []\n",
    "\n",
    "for value in B_over_A:\n",
    "    alpha = 1 / gld[0]\n",
    "    \n",
    "    beta = value / gdx[0]\n",
    "    \n",
    "    X = alpha * gld - beta * gdx\n",
    "    \n",
    "    parameters = calculate_parameters(X, dt)\n",
    "    likelihood_gld_gdx.append(log_likelihood(parameters, X, dt))\n",
    "    \n",
    "likelihood_gld_slv = []\n",
    "\n",
    "for value in B_over_A:\n",
    "    alpha = 1 / gld[0]\n",
    "    \n",
    "    beta = value / slv[0]\n",
    "    \n",
    "    X = alpha * gld - beta * slv\n",
    "\n",
    "    parameters = calculate_parameters(X, dt)\n",
    "    likelihood_gld_slv.append(log_likelihood(parameters, X, dt))"
   ]
  },
  {
   "cell_type": "code",
   "execution_count": 25,
   "id": "f1eeb638",
   "metadata": {},
   "outputs": [
    {
     "data": {
      "text/plain": [
       "<matplotlib.legend.Legend at 0x7fc1d5ad8940>"
      ]
     },
     "execution_count": 25,
     "metadata": {},
     "output_type": "execute_result"
    },
    {
     "data": {
      "image/png": "[encoded data removed]",
      "text/plain": [
       "<Figure size 640x480 with 1 Axes>"
      ]
     },
     "metadata": {},
     "output_type": "display_data"
    }
   ],
   "source": [
    "#  We want to plot things in terms of B, but we set A = 1 above so B/A = B.\n",
    "#  I am just making it explicit here for clarity.\n",
    "B = B_over_A * 1\n",
    "plt.plot(B, likelihood_gld_gdx, 'k', label = 'GLD-GDX')\n",
    "plt.plot(B, likelihood_gld_slv, ':', label = 'GLD-SLV')\n",
    "plt.xlabel('B')\n",
    "plt.ylabel('Log Likelihood')\n",
    "plt.grid()\n",
    "plt.legend()"
   ]
  },
  {
   "cell_type": "markdown",
   "id": "766c21d5",
   "metadata": {},
   "source": [
    "Now we’ll figure out which value of $B$ gives the maximum log likelihood.  There are better ways to do this, but this is probably the simplest if our $B$-vector  has a high enough density of points.  We’ll just find the maximum value of the log likelihood, find which index corresponds to that vector, and pull out the $B$-value with that index.\n",
    "\n",
    "The book gets these values:\n",
    "GLD-GDX: 0.454<br>\n",
    "GLD-SLV:  0.493\n",
    "\n",
    "We get numbers that are close, but slightly different."
   ]
  },
  {
   "cell_type": "code",
   "execution_count": 26,
   "id": "11c01e4b",
   "metadata": {},
   "outputs": [],
   "source": [
    "V = np.amax(likelihood_gld_gdx)\n",
    "ind = np.where(likelihood_gld_gdx == V)\n",
    "ind = ind[0]\n",
    "B = B[ind][0] \n",
    "\n",
    "# print('GLD-GDX: ', B[ind][0] )\n",
    "\n",
    "# #  Do the same with for the pair with SLV\n",
    "# V = np.amax(likelihood_gld_slv)\n",
    "# ind = np.where(likelihood_gld_slv == V)\n",
    "# ind = ind[0]\n",
    "# print('GLD-SLV: ', B[ind][0] )"
   ]
  },
  {
   "cell_type": "code",
   "execution_count": 27,
   "id": "9a06111c",
   "metadata": {},
   "outputs": [
    {
     "data": {
      "text/plain": [
       "0.378"
      ]
     },
     "execution_count": 27,
     "metadata": {},
     "output_type": "execute_result"
    }
   ],
   "source": [
    "B\n"
   ]
  },
  {
   "cell_type": "code",
   "execution_count": 28,
   "id": "7032bc8a",
   "metadata": {},
   "outputs": [],
   "source": [
    "alpha = 1/gld[0]\n",
    "beta = B/gdx[0]"
   ]
  },
  {
   "cell_type": "code",
   "execution_count": 36,
   "id": "48241646",
   "metadata": {},
   "outputs": [],
   "source": [
    "Xt = np.exp(alpha*gld) - np.exp(beta*gdx)"
   ]
  },
  {
   "cell_type": "code",
   "execution_count": 37,
   "id": "b32b2c3e",
   "metadata": {},
   "outputs": [
    {
     "data": {
      "text/plain": [
       "(1.313796378783222, 0.4399416393431504, 0.08523662518870707)"
      ]
     },
     "execution_count": 37,
     "metadata": {},
     "output_type": "execute_result"
    }
   ],
   "source": [
    "\n",
    "parameters= calculate_parameters(Xt, dt)\n",
    "\n",
    "theta = parameters[0]\n",
    "mu = parameters[1]\n",
    "sigma = parameters[2]\n",
    "parameters"
   ]
  },
  {
   "cell_type": "code",
   "execution_count": 38,
   "id": "a6d5e313",
   "metadata": {},
   "outputs": [],
   "source": [
    "Yt = (np.sqrt(2*mu)/sigma)*(Xt-theta)"
   ]
  },
  {
   "cell_type": "code",
   "execution_count": 39,
   "id": "a4a56a90",
   "metadata": {},
   "outputs": [],
   "source": [
    "def calculate_zscore(spread,halflife):\n",
    "        ''' Using rolling MEAN and STANDARD Deviation Calculate the Distribution ZSCORE'''\n",
    "        z_score_window = halflife\n",
    "        spread = spread[~np.isnan(spread)]\n",
    "\n",
    "        df = pd.DataFrame(spread)        \n",
    "\n",
    "        mean = df.rolling(center=False, window=z_score_window).mean()\n",
    "        std = df.rolling(center=False, window=z_score_window).std()\n",
    "        x = df.rolling(center=False, window=1).mean()\n",
    "        df[\"ZSCORE\"] = (x - mean) / std\n",
    "        # print(df)\n",
    "        return df[\"ZSCORE\"].astype(float).values"
   ]
  },
  {
   "cell_type": "code",
   "execution_count": 40,
   "id": "80d7d83c",
   "metadata": {},
   "outputs": [],
   "source": [
    "zscore = calculate_zscore(Xt,int(mu) )"
   ]
  },
  {
   "cell_type": "code",
   "execution_count": 41,
   "id": "4263e534",
   "metadata": {},
   "outputs": [
    {
     "data": {
      "image/png": "[encoded data removed]",
      "text/plain": [
       "<Figure size 640x480 with 3 Axes>"
      ]
     },
     "metadata": {},
     "output_type": "display_data"
    }
   ],
   "source": [
    "fig, (ax1, ax2,ax3) = plt.subplots(3, sharex=True)\n",
    "# plt.figure(figsize=(8,6),dpi=200)\n",
    "\n",
    "plt.multi = MultiCursor(fig.canvas, (ax1, ax2, ax3), color='r', lw=1)\n",
    "# plt.subplot(3, 1, 1)\n",
    "ax1.set_title(f\"Statistical Arbitrage \")        \n",
    "# plt.xlim([0, 200])\n",
    "ax1.legend(['gdl','gdx'])\n",
    "ax1.set_ylabel(\"price \")\n",
    "ax1.plot(alpha*gld )\n",
    "ax1.plot(beta*gdx)\n",
    "\n",
    "\n",
    "ax2.set_ylabel(\"Xt spread \")\n",
    "ax2.plot(Xt)\n",
    "\n",
    "\n",
    "\n",
    "\n",
    "\n",
    "# # plt.subplot(3, 1, 3)\n",
    "# plt.xlim([0, 200])\n",
    "\n",
    "ax3.plot(Yt)\n",
    "\n",
    "\n",
    "min_z = np.min(Yt)*0.8\n",
    "max_z = np.max(Yt)*0.8\n",
    "\n",
    "if np.abs(min_z) > max_z:\n",
    "    max_z = min_z\n",
    "\n",
    "\n",
    "up_green_line = np.full(len(zscore),max_z, dtype=float)\n",
    "down_red_line = np.full(len(zscore), -max_z, dtype=float)\n",
    "zero_line = np.full(len(zscore), 0, dtype=int)\n",
    "\n",
    "\n",
    "ax3.plot(up_green_line,color = 'g', linestyle = 'dotted')\n",
    "ax3.plot(down_red_line,color = 'r', linestyle = 'dotted')\n",
    "ax3.plot(zero_line,color = 'c', linestyle = 'dotted')\n",
    "\n",
    "\n",
    "# ax3.set_ylabel(f\"KFMA max= {max_z} min_z= {min_z} \")\n",
    "\n",
    "# fig.savefig(f'Data/Plots/{symbol}_plot_zscore_multi.png')\n",
    "\n",
    "def onclick(event):\n",
    "    x1,y1 = event.xdata,event.ydata\n",
    "    print(x1,y1)\n",
    "\n",
    "fig.canvas.mpl_connect('button_press_event',onclick)\n",
    "\n",
    "plt.show()\n",
    "\n"
   ]
  },
  {
   "cell_type": "code",
   "execution_count": 42,
   "id": "8024a556",
   "metadata": {},
   "outputs": [
    {
     "data": {
      "text/plain": [
       "array([-0.60392158, -0.55033099, -0.35763702, -0.36525596, -0.19909935,\n",
       "       -0.34562828, -0.356847  , -0.33549428, -0.246655  , -0.2410317 ,\n",
       "       -0.10391571, -0.06658895,  0.02757551, -0.14899353, -0.31706463,\n",
       "       -0.3203067 , -0.18009253, -0.28926483, -0.13777043, -0.17942693,\n",
       "       -0.18838736, -0.04559071, -0.06692045, -0.26379487, -0.13297555,\n",
       "       -0.15069526, -0.24151658, -0.18994204, -0.20565082, -0.29251409,\n",
       "       -0.26830089, -0.34645534, -0.31267471, -0.35593702, -0.39120048,\n",
       "       -0.64849248, -0.75540077, -0.63557189, -0.73067645, -0.68886409,\n",
       "       -0.67985479, -0.55259375, -0.62034622, -0.61982577, -0.61937975,\n",
       "       -0.62988597, -0.53330422, -0.57762705, -0.54822513, -0.55353595,\n",
       "       -0.55811561, -0.55020492, -0.58868969, -0.56753701, -0.63341071,\n",
       "       -0.59245289, -0.59350752, -0.46596151, -0.41511681, -0.36875748,\n",
       "       -0.40109029, -0.43955568, -0.42986938, -0.40765028, -0.36134169,\n",
       "       -0.37852945, -0.28473515, -0.31513116, -0.32086765, -0.34012539,\n",
       "       -0.29568642, -0.29374897, -0.2922043 , -0.33077504, -0.42315124,\n",
       "       -0.38338106, -0.50788313, -0.46515636, -0.44078213, -0.47318838,\n",
       "       -0.39560083, -0.39367493, -0.38145218, -0.39620904, -0.33707026,\n",
       "       -0.41507921, -0.41470168, -0.37017247, -0.44700985, -0.44701165,\n",
       "       -0.55189038, -0.63368166, -0.79590191, -0.7971337 , -0.71574395,\n",
       "       -0.68574762, -0.65889538, -0.65132522, -0.67728787, -0.67828595,\n",
       "       -0.70458087, -0.79941639, -0.85970729, -0.80289311, -0.72138281,\n",
       "       -0.69009893, -0.65465981, -0.66085092, -0.69543807, -0.63856624,\n",
       "       -0.59609294, -0.58130199, -0.60399473, -0.53397052, -0.49541627,\n",
       "       -0.47825734, -0.44811078, -0.43221246, -0.43992093, -0.37682053,\n",
       "       -0.36099033, -0.33781926, -0.35289564, -0.30776905, -0.30166   ,\n",
       "       -0.27366159, -0.36616497, -0.37550914, -0.2784874 , -0.31150175,\n",
       "       -0.32056509, -0.33088977, -0.31250463, -0.31159152, -0.27063086,\n",
       "       -0.31306883, -0.31401685, -0.23070064, -0.19113394, -0.19976483,\n",
       "       -0.20584051, -0.21350382, -0.18539576, -0.45775389, -0.38796538,\n",
       "       -0.36762212, -0.35978853, -0.43352309, -0.40555707, -0.36460525,\n",
       "       -0.32303667, -0.34515248, -0.43773067, -0.47942159, -0.42456798,\n",
       "       -0.41025718, -0.38977111, -0.45104328, -0.44510667, -0.43808586,\n",
       "       -0.39676644, -0.31863617, -0.33910547, -0.37241337, -0.38476824,\n",
       "       -0.36865101, -0.36426641, -0.42630017, -0.46205404, -0.40485543,\n",
       "       -0.3745961 , -0.32880764, -0.31245506, -0.30517435, -0.35241138,\n",
       "       -0.33958337, -0.36217413, -0.38158875, -0.37652484, -0.3568005 ,\n",
       "       -0.33907503, -0.33385995, -0.35930456, -0.30624558, -0.3109808 ,\n",
       "       -0.27968809, -0.3017188 , -0.3033461 , -0.30424166, -0.29148254,\n",
       "       -0.29310194, -0.35636738, -0.44337659, -0.43442838, -0.45722572,\n",
       "       -0.49144871, -0.49348762, -0.51250056, -0.4483054 , -0.39172166])"
      ]
     },
     "execution_count": 42,
     "metadata": {},
     "output_type": "execute_result"
    }
   ],
   "source": [
    "Yt"
   ]
  },
  {
   "cell_type": "code",
   "execution_count": null,
   "id": "8747ecfa",
   "metadata": {},
   "outputs": [],
   "source": []
  },
  {
   "cell_type": "code",
   "execution_count": null,
   "id": "501bb7da",
   "metadata": {},
   "outputs": [],
   "source": []
  },
  {
   "cell_type": "code",
   "execution_count": null,
   "id": "31fa2b6c",
   "metadata": {},
   "outputs": [],
   "source": []
  }
 ],
 "metadata": {
  "kernelspec": {
   "display_name": "Python 3 (ipykernel)",
   "language": "python",
   "name": "python3"
  },
  "language_info": {
   "codemirror_mode": {
    "name": "ipython",
    "version": 3
   },
   "file_extension": ".py",
   "mimetype": "text/x-python",
   "name": "python",
   "nbconvert_exporter": "python",
   "pygments_lexer": "ipython3",
   "version": "3.9.13"
  }
 },
 "nbformat": 4,
 "nbformat_minor": 5
}
